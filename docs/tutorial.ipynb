{
  "nbformat": 4,
  "nbformat_minor": 0,
  "metadata": {
    "colab": {
      "provenance": []
    },
    "kernelspec": {
      "name": "python3",
      "display_name": "Python 3"
    },
    "language_info": {
      "name": "python"
    }
  },
  "cells": [
    {
      "cell_type": "markdown",
      "source": [
        "MArray is a package for extending your favorite [Python Array API Standard](https://data-apis.org/array-api/latest/index.html) compatible library with mask capabilities. Motivation for masked arrays can be found at [\"What is a masked array?\"](https://numpy.org/devdocs/reference/maskedarray.generic.html#what-is-a-masked-array).\n",
        "\n",
        "MArray is easy to install with `pip`, and it has no required dependencies."
      ],
      "metadata": {
        "id": "_mrLVM5iNzlK"
      }
    },
    {
      "cell_type": "code",
      "execution_count": 1,
      "metadata": {
        "colab": {
          "base_uri": "https://localhost:8080/"
        },
        "id": "df-5AkJlNrMv",
        "outputId": "b35a4615-b606-46b4-9ed4-676bd1b2d775"
      },
      "outputs": [
        {
          "output_type": "stream",
          "name": "stdout",
          "text": [
            "Requirement already satisfied: marray in /usr/local/lib/python3.10/dist-packages (0.0.5)\n"
          ]
        }
      ],
      "source": [
        "!pip install marray"
      ]
    },
    {
      "cell_type": "markdown",
      "source": [
        "The rest of the tutorial will assume that we want to add masks to NumPy arrays. Note that this is different from using NumPy's built-in masked arrays from the `numpy.ma` namespace because `numpy.ma` is not compatible with the array API standard. Even the base NumPy namespace is not Array API compatible in versions of NumPy prior to 2.0, so we will install a recent version of NumPy to work with."
      ],
      "metadata": {
        "id": "XhAegVfKOln6"
      }
    },
    {
      "cell_type": "code",
      "source": [
        "!pip install --upgrade numpy"
      ],
      "metadata": {
        "colab": {
          "base_uri": "https://localhost:8080/"
        },
        "id": "WqplnZOgQmno",
        "outputId": "209c3a85-2ea3-4b6b-dd16-d32ffed22575"
      },
      "execution_count": 2,
      "outputs": [
        {
          "output_type": "stream",
          "name": "stdout",
          "text": [
            "Requirement already satisfied: numpy in /usr/local/lib/python3.10/dist-packages (2.2.0)\n"
          ]
        }
      ]
    },
    {
      "cell_type": "markdown",
      "source": [
        "To create a version of the NumPy namespace with mask support, use `marray`'s only public attribute: `get_namespace`."
      ],
      "metadata": {
        "id": "qK_62ObGQncu"
      }
    },
    {
      "cell_type": "code",
      "source": [
        "import numpy as xp\n",
        "import marray\n",
        "mxp = marray.get_namespace(xp)"
      ],
      "metadata": {
        "id": "Cjc6HngEOdyk"
      },
      "execution_count": 3,
      "outputs": []
    },
    {
      "cell_type": "markdown",
      "source": [
        "`mxp` exposes all the features of NumPy that are specified in the Array API standard, but adds masks support to them. For example:"
      ],
      "metadata": {
        "id": "Yryoso2GRXv4"
      }
    },
    {
      "cell_type": "code",
      "source": [
        "x = mxp.arange(3)\n",
        "x"
      ],
      "metadata": {
        "colab": {
          "base_uri": "https://localhost:8080/"
        },
        "id": "G2Iuxe_vQhFK",
        "outputId": "5f5293bb-fec3-45e8-c992-bef61d6d3630"
      },
      "execution_count": 4,
      "outputs": [
        {
          "output_type": "execute_result",
          "data": {
            "text/plain": [
              "MArray(array([0, 1, 2]), array([False, False, False]))"
            ]
          },
          "metadata": {},
          "execution_count": 4
        }
      ]
    },
    {
      "cell_type": "markdown",
      "source": [
        "Just as `xp.arange(3)` would have created a regular NumPy array with elements [0, 1, 2], `mxp.arange(3)` creates an `MArray` object with these elements. These are accessible via the `data` attribute."
      ],
      "metadata": {
        "id": "1lSWHD14SPtZ"
      }
    },
    {
      "cell_type": "code",
      "source": [
        "x.data"
      ],
      "metadata": {
        "colab": {
          "base_uri": "https://localhost:8080/"
        },
        "id": "s0rkwCOQR4Q6",
        "outputId": "ca858d3c-6621-4d41-9e92-e02fefb0da2a"
      },
      "execution_count": 5,
      "outputs": [
        {
          "output_type": "execute_result",
          "data": {
            "text/plain": [
              "array([0, 1, 2])"
            ]
          },
          "metadata": {},
          "execution_count": 5
        }
      ]
    },
    {
      "cell_type": "markdown",
      "source": [
        "The difference is that the `MArray` also has a mask, available via the `mask` attribute."
      ],
      "metadata": {
        "id": "2jKANlowSr_c"
      }
    },
    {
      "cell_type": "code",
      "source": [
        "x.mask"
      ],
      "metadata": {
        "colab": {
          "base_uri": "https://localhost:8080/"
        },
        "id": "v9dGW46dSrPC",
        "outputId": "f07e8022-0fde-46c2-a031-466843116a97"
      },
      "execution_count": 6,
      "outputs": [
        {
          "output_type": "execute_result",
          "data": {
            "text/plain": [
              "array([False, False, False])"
            ]
          },
          "metadata": {},
          "execution_count": 6
        }
      ]
    },
    {
      "cell_type": "markdown",
      "source": [
        "Because all of the elements of the mask are `False`, this `MArray` will behave just like a regular NumPy array. That's boring. Let's create an array with a nontrivial mask. To do that, we'll use `mxp.asarray`."
      ],
      "metadata": {
        "id": "aUmir_QPSx-G"
      }
    },
    {
      "cell_type": "code",
      "source": [
        "x = mxp.asarray([1, 2, 3, 4], mask=[False, True, False, True])\n",
        "x"
      ],
      "metadata": {
        "colab": {
          "base_uri": "https://localhost:8080/"
        },
        "id": "N4APsIAhSw2Z",
        "outputId": "f5e7ae95-2073-4934-bf82-de09a2409e45"
      },
      "execution_count": 7,
      "outputs": [
        {
          "output_type": "execute_result",
          "data": {
            "text/plain": [
              "MArray(array([1, 2, 3, 4]), array([False,  True, False,  True]))"
            ]
          },
          "metadata": {},
          "execution_count": 7
        }
      ]
    },
    {
      "cell_type": "markdown",
      "source": [
        "`marray` is intended to be a very light wrapper of the underlying array library. Just as it has only one public function (`get_namespace`), it makes only one modification to the signature of a wrapped library function, which we've used above: it adds a `mask` keyword-only argument to the `asarray` function.\n",
        "\n",
        "Let's see how the mask changes the behavior of common functions.\n",
        "\n",
        "#### Statistical Functions\n",
        "For reducing functions, masked elements are ignored; the result is the same as if the masked elements were not in the array."
      ],
      "metadata": {
        "id": "BBTh_JoMTxzk"
      }
    },
    {
      "cell_type": "code",
      "source": [
        "mxp.max(x)  # 4 was masked"
      ],
      "metadata": {
        "colab": {
          "base_uri": "https://localhost:8080/"
        },
        "id": "4hS53RIJTTHK",
        "outputId": "0ccaf6ef-0f50-4e7b-fe6e-75dd4315d246"
      },
      "execution_count": 8,
      "outputs": [
        {
          "output_type": "execute_result",
          "data": {
            "text/plain": [
              "MArray(array(3), array(False))"
            ]
          },
          "metadata": {},
          "execution_count": 8
        }
      ]
    },
    {
      "cell_type": "code",
      "source": [
        "mxp.sum(x)  # 1 and 3 were masked"
      ],
      "metadata": {
        "colab": {
          "base_uri": "https://localhost:8080/"
        },
        "id": "cVyWwibmUuUB",
        "outputId": "96c6e94b-e3b1-4be7-d2fb-e859a46d0c1e"
      },
      "execution_count": 9,
      "outputs": [
        {
          "output_type": "execute_result",
          "data": {
            "text/plain": [
              "MArray(array(4), array(False))"
            ]
          },
          "metadata": {},
          "execution_count": 9
        }
      ]
    },
    {
      "cell_type": "markdown",
      "source": [
        "For the only non-reducing statistical function, `cumulative_sum`, masked elements do not contribute to the cumulative sum."
      ],
      "metadata": {
        "id": "79s_aKtjU6Sn"
      }
    },
    {
      "cell_type": "code",
      "source": [
        "mxp.cumulative_sum(x)"
      ],
      "metadata": {
        "colab": {
          "base_uri": "https://localhost:8080/"
        },
        "id": "aVhcgaocU0SQ",
        "outputId": "f5835d6b-2c81-4894-9a79-6a604b7b4969"
      },
      "execution_count": 10,
      "outputs": [
        {
          "output_type": "execute_result",
          "data": {
            "text/plain": [
              "MArray(array([1, 1, 4, 4]), array([False,  True, False,  True]))"
            ]
          },
          "metadata": {},
          "execution_count": 10
        }
      ]
    },
    {
      "cell_type": "markdown",
      "source": [
        "Note that the elements at indices where the original array were masked remain masked. Because of the limitations of the underlying array library, there will always be values corresponding with masked elements in `data`, *but these values should be considered meaningless*.\n",
        "\n",
        "#### Utility functions\n",
        "`all` and `any` work like the reducing statistics functions."
      ],
      "metadata": {
        "id": "d7smII8IVTDZ"
      }
    },
    {
      "cell_type": "code",
      "source": [
        "x = mxp.asarray([False, False, False, True], mask=[False, True, False, True])\n",
        "mxp.all(x)"
      ],
      "metadata": {
        "colab": {
          "base_uri": "https://localhost:8080/"
        },
        "id": "wqzDdlG8VQJY",
        "outputId": "f90179f8-deda-47ea-e051-929308ca3852"
      },
      "execution_count": 11,
      "outputs": [
        {
          "output_type": "execute_result",
          "data": {
            "text/plain": [
              "MArray(array(False), array(False))"
            ]
          },
          "metadata": {},
          "execution_count": 11
        }
      ]
    },
    {
      "cell_type": "code",
      "source": [
        "mxp.any(x)"
      ],
      "metadata": {
        "colab": {
          "base_uri": "https://localhost:8080/"
        },
        "id": "6RsGw5FaWOvI",
        "outputId": "63967ed6-8a5d-4106-d6e8-06ffee2b6e41"
      },
      "execution_count": 12,
      "outputs": [
        {
          "output_type": "execute_result",
          "data": {
            "text/plain": [
              "MArray(array(False), array(False))"
            ]
          },
          "metadata": {},
          "execution_count": 12
        }
      ]
    },
    {
      "cell_type": "markdown",
      "source": [
        "Is that last result surprising? Although there is one `True` in `x.data`, it is ignored when computing `any` because it is masked.\n",
        "\n",
        "You may have noticed that the mask of the result has always been `False` in these examples of reducing functions. This is always the case unless *all* elements of the array are masked. In this case, it is required by the reducing nature of the function to return a 0D array for a 1D input, but there is not an universally accepted result for these functions when all elements are masked. (What is the maximum of an empty set?)"
      ],
      "metadata": {
        "id": "PpXqsmpJWkku"
      }
    },
    {
      "cell_type": "code",
      "source": [
        "x = mxp.asarray(x.data, mask=True)\n",
        "mxp.any(x).mask"
      ],
      "metadata": {
        "colab": {
          "base_uri": "https://localhost:8080/"
        },
        "id": "oP83Gw1uWi9l",
        "outputId": "097a7666-4d9d-4ca2-f8e5-bdcffa52612b"
      },
      "execution_count": 13,
      "outputs": [
        {
          "output_type": "execute_result",
          "data": {
            "text/plain": [
              "array(True)"
            ]
          },
          "metadata": {},
          "execution_count": 13
        }
      ]
    },
    {
      "cell_type": "markdown",
      "source": [
        "#### Sorting functions\n",
        "The sorting functions treat masked values as undefined and, by convention, append them to the end of the returned array."
      ],
      "metadata": {
        "id": "oF1TqQxpYO_w"
      }
    },
    {
      "cell_type": "code",
      "source": [
        "data = [8, 3, 4, 1, 9, 9, 5, 5]\n",
        "mask = [0, 0, 1, 0, 1, 1, 0, 0]\n",
        "x = mxp.asarray(data, mask=mask)\n",
        "mxp.sort(x)"
      ],
      "metadata": {
        "colab": {
          "base_uri": "https://localhost:8080/"
        },
        "id": "FY7ATUksWc7v",
        "outputId": "4e88f393-a00f-4b85-a686-edbad0849b75"
      },
      "execution_count": 14,
      "outputs": [
        {
          "output_type": "execute_result",
          "data": {
            "text/plain": [
              "MArray(\n",
              "    array([                  1,                   3,                   5,\n",
              "                         5,                   8, 9223372036854775807,\n",
              "       9223372036854775807, 9223372036854775807]),\n",
              "    array([False, False, False, False, False,  True,  True,  True])\n",
              ")"
            ]
          },
          "metadata": {},
          "execution_count": 14
        }
      ]
    },
    {
      "cell_type": "markdown",
      "source": [
        "Where did those huge numbers come from? We emphasize again: *the `data` corresponding with masked elements should be considered meaningless*; they are just placeholders that allow us respect the mask while doing array operations efficiently."
      ],
      "metadata": {
        "id": "gjaVIKX7ZTph"
      }
    },
    {
      "cell_type": "code",
      "source": [
        "i = mxp.argsort(x)\n",
        "i"
      ],
      "metadata": {
        "colab": {
          "base_uri": "https://localhost:8080/"
        },
        "id": "VWNWt9hQZrEN",
        "outputId": "c6bba54b-bd7f-4036-e977-3c2f3162444d"
      },
      "execution_count": 15,
      "outputs": [
        {
          "output_type": "execute_result",
          "data": {
            "text/plain": [
              "MArray(\n",
              "    array([3, 1, 6, 7, 0, 2, 4, 5]),\n",
              "    array([False, False, False, False, False, False, False, False])\n",
              ")"
            ]
          },
          "metadata": {},
          "execution_count": 15
        }
      ]
    },
    {
      "cell_type": "markdown",
      "source": [
        "Is it surprising that the mask of the array returned by `argsort` is all False? These are the indices that allow us to transform the original array into the sorted result. We can confirm that without a mask, these indices sort the array and keep the right elements masked."
      ],
      "metadata": {
        "id": "fVmJleGcaD9j"
      }
    },
    {
      "cell_type": "code",
      "source": [
        "y = x[i.data]\n",
        "y"
      ],
      "metadata": {
        "colab": {
          "base_uri": "https://localhost:8080/"
        },
        "id": "8nJg4JV6YsvP",
        "outputId": "e3942fbd-ad99-49f4-eb0d-1ce05c513743"
      },
      "execution_count": 16,
      "outputs": [
        {
          "output_type": "execute_result",
          "data": {
            "text/plain": [
              "MArray(\n",
              "    array([1, 3, 5, 5, 8, 4, 9, 9]),\n",
              "    array([False, False, False, False, False,  True,  True,  True])\n",
              ")"
            ]
          },
          "metadata": {},
          "execution_count": 16
        }
      ]
    },
    {
      "cell_type": "markdown",
      "source": [
        "#### Manipulation functions\n",
        "Manipulation functions perform the same operation on the data and the mask."
      ],
      "metadata": {
        "id": "OwZOS_qFbGEz"
      }
    },
    {
      "cell_type": "code",
      "source": [
        "mxp.flip(y)"
      ],
      "metadata": {
        "colab": {
          "base_uri": "https://localhost:8080/"
        },
        "id": "3mFPzLOLaofm",
        "outputId": "5d440039-5476-457d-bdab-b9452ef0f024"
      },
      "execution_count": 17,
      "outputs": [
        {
          "output_type": "execute_result",
          "data": {
            "text/plain": [
              "MArray(\n",
              "    array([9, 9, 4, 8, 5, 5, 3, 1]),\n",
              "    array([ True,  True,  True, False, False, False, False, False])\n",
              ")"
            ]
          },
          "metadata": {},
          "execution_count": 17
        }
      ]
    },
    {
      "cell_type": "code",
      "source": [
        "mxp.stack([y, y])"
      ],
      "metadata": {
        "colab": {
          "base_uri": "https://localhost:8080/"
        },
        "id": "LRHAfyP2bTEl",
        "outputId": "1cd186be-4ad0-42f4-c50c-b77c955b2c9d"
      },
      "execution_count": 18,
      "outputs": [
        {
          "output_type": "execute_result",
          "data": {
            "text/plain": [
              "MArray(\n",
              "    array([[1, 3, 5, 5, 8, 4, 9, 9],\n",
              "       [1, 3, 5, 5, 8, 4, 9, 9]]),\n",
              "    array([[False, False, False, False, False,  True,  True,  True],\n",
              "       [False, False, False, False, False,  True,  True,  True]])\n",
              ")"
            ]
          },
          "metadata": {},
          "execution_count": 18
        }
      ]
    },
    {
      "cell_type": "markdown",
      "source": [
        "#### Creation functions\n",
        "Most creation functions create arrays with an all-False mask."
      ],
      "metadata": {
        "id": "FU22DCvdbhaC"
      }
    },
    {
      "cell_type": "code",
      "source": [
        "mxp.eye(3)"
      ],
      "metadata": {
        "colab": {
          "base_uri": "https://localhost:8080/"
        },
        "id": "lp7icAy3bWjl",
        "outputId": "ae0c2e33-ee61-4d74-8788-d89eaaaa93f6"
      },
      "execution_count": 19,
      "outputs": [
        {
          "output_type": "execute_result",
          "data": {
            "text/plain": [
              "MArray(\n",
              "    array([[1., 0., 0.],\n",
              "       [0., 1., 0.],\n",
              "       [0., 0., 1.]]),\n",
              "    array([[False, False, False],\n",
              "       [False, False, False],\n",
              "       [False, False, False]])\n",
              ")"
            ]
          },
          "metadata": {},
          "execution_count": 19
        }
      ]
    },
    {
      "cell_type": "markdown",
      "source": [
        "Exceptions include the `_like` functions, which preserve the mask of the array argument."
      ],
      "metadata": {
        "id": "FA1_TtfLbs7J"
      }
    },
    {
      "cell_type": "code",
      "source": [
        "mxp.zeros_like(y)"
      ],
      "metadata": {
        "colab": {
          "base_uri": "https://localhost:8080/"
        },
        "id": "Ufx9V5zxbret",
        "outputId": "6070d56c-2336-4055-ec2f-b83cc2dd29ec"
      },
      "execution_count": 20,
      "outputs": [
        {
          "output_type": "execute_result",
          "data": {
            "text/plain": [
              "MArray(\n",
              "    array([0, 0, 0, 0, 0, 0, 0, 0]),\n",
              "    array([False, False, False, False, False,  True,  True,  True])\n",
              ")"
            ]
          },
          "metadata": {},
          "execution_count": 20
        }
      ]
    },
    {
      "cell_type": "markdown",
      "source": [
        "`tril` and `triu` also preserve the mask of the indicated triangular portion of the argument."
      ],
      "metadata": {
        "id": "tYopOLRRgOvZ"
      }
    },
    {
      "cell_type": "code",
      "source": [
        "data = xp.ones((3, 3))\n",
        "mask = xp.zeros_like(data)\n",
        "mask[0, -1] = 1\n",
        "mask[-1, 0] = 1\n",
        "A = mxp.asarray(data, mask=mask)\n",
        "A"
      ],
      "metadata": {
        "colab": {
          "base_uri": "https://localhost:8080/"
        },
        "id": "ClidkVXhgL3e",
        "outputId": "fd49532a-5d40-465b-c2bb-b553d535eef8"
      },
      "execution_count": 21,
      "outputs": [
        {
          "output_type": "execute_result",
          "data": {
            "text/plain": [
              "MArray(\n",
              "    array([[1., 1., 1.],\n",
              "       [1., 1., 1.],\n",
              "       [1., 1., 1.]]),\n",
              "    array([[False, False,  True],\n",
              "       [False, False, False],\n",
              "       [ True, False, False]])\n",
              ")"
            ]
          },
          "metadata": {},
          "execution_count": 21
        }
      ]
    },
    {
      "cell_type": "code",
      "source": [
        "mxp.tril(A)"
      ],
      "metadata": {
        "colab": {
          "base_uri": "https://localhost:8080/"
        },
        "id": "ShOtQd0wgjaU",
        "outputId": "66ab254b-e326-4624-aff9-d47a99a701e5"
      },
      "execution_count": 22,
      "outputs": [
        {
          "output_type": "execute_result",
          "data": {
            "text/plain": [
              "MArray(\n",
              "    array([[1., 0., 0.],\n",
              "       [1., 1., 0.],\n",
              "       [1., 1., 1.]]),\n",
              "    array([[False, False, False],\n",
              "       [False, False, False],\n",
              "       [ True, False, False]])\n",
              ")"
            ]
          },
          "metadata": {},
          "execution_count": 22
        }
      ]
    },
    {
      "cell_type": "markdown",
      "source": [
        "#### Searching functions\n",
        "Similarly to the statistics functions, masked elements are treated as if they did not exist."
      ],
      "metadata": {
        "id": "wfqFAPFOcJCX"
      }
    },
    {
      "cell_type": "code",
      "source": [
        "x[[1, -1]] = 0  # add some zeros\n",
        "x  # let's remember what `x` looks like"
      ],
      "metadata": {
        "colab": {
          "base_uri": "https://localhost:8080/"
        },
        "id": "agLVvpjAbzU1",
        "outputId": "bb403587-5a98-4133-8a30-576b17181f1b"
      },
      "execution_count": 23,
      "outputs": [
        {
          "output_type": "execute_result",
          "data": {
            "text/plain": [
              "MArray(\n",
              "    array([8, 0, 4, 1, 9, 9, 5, 0]),\n",
              "    array([False, False,  True, False,  True,  True, False, False])\n",
              ")"
            ]
          },
          "metadata": {},
          "execution_count": 23
        }
      ]
    },
    {
      "cell_type": "code",
      "source": [
        "mxp.argmax(x)  # 9 is masked, so 8 (at index 0) is the largest element"
      ],
      "metadata": {
        "colab": {
          "base_uri": "https://localhost:8080/"
        },
        "id": "W5JBs-aRcSzl",
        "outputId": "7aea1ff3-d197-46f4-ed1a-6a81f3109fc6"
      },
      "execution_count": 24,
      "outputs": [
        {
          "output_type": "execute_result",
          "data": {
            "text/plain": [
              "MArray(array(0), array(False))"
            ]
          },
          "metadata": {},
          "execution_count": 24
        }
      ]
    },
    {
      "cell_type": "code",
      "source": [
        "i = mxp.nonzero(x)  # Only elements at these indices are nonzero *and* not masked\n",
        "i"
      ],
      "metadata": {
        "colab": {
          "base_uri": "https://localhost:8080/"
        },
        "id": "kMnFq-YaccI0",
        "outputId": "5d43bc12-f7b6-48d6-8e9e-6481e1bfcc19"
      },
      "execution_count": 25,
      "outputs": [
        {
          "output_type": "execute_result",
          "data": {
            "text/plain": [
              "(MArray(array([0, 3, 6]), array([False, False, False])),)"
            ]
          },
          "metadata": {},
          "execution_count": 25
        }
      ]
    },
    {
      "cell_type": "markdown",
      "source": [
        "The correct behavior of indexing with a masked array is ambiguous, so use only regular, unmasked arrays for indexing."
      ],
      "metadata": {
        "id": "JiGvxqCA3nFI"
      }
    },
    {
      "cell_type": "code",
      "source": [
        "indices = i[0].data\n",
        "x[indices]  # nonzero, not masked"
      ],
      "metadata": {
        "colab": {
          "base_uri": "https://localhost:8080/"
        },
        "id": "-VZpL5mw3YP-",
        "outputId": "0abecaa4-16f6-4492-b3bc-45ba6bc12111"
      },
      "execution_count": 26,
      "outputs": [
        {
          "output_type": "execute_result",
          "data": {
            "text/plain": [
              "MArray(array([8, 1, 5]), array([False, False, False]))"
            ]
          },
          "metadata": {},
          "execution_count": 26
        }
      ]
    },
    {
      "cell_type": "markdown",
      "source": [
        "#### Elementwise functions\n",
        "Elementwise functions (and operators) simply perform the requested operation on the `data`.\n",
        "\n",
        "For unary functions, the mask of the result is the mask of the argument."
      ],
      "metadata": {
        "id": "8oMGicYMdFwl"
      }
    },
    {
      "cell_type": "code",
      "source": [
        "x = xp.linspace(0, 2*xp.pi, 5)\n",
        "x = mxp.asarray(x, mask=(x > xp.pi))\n",
        "x"
      ],
      "metadata": {
        "colab": {
          "base_uri": "https://localhost:8080/"
        },
        "id": "FAxV2UAGcm_E",
        "outputId": "2dfd217e-fb0e-4280-bd5e-77210aaf2452"
      },
      "execution_count": 27,
      "outputs": [
        {
          "output_type": "execute_result",
          "data": {
            "text/plain": [
              "MArray(\n",
              "    array([0.        , 1.57079633, 3.14159265, 4.71238898, 6.28318531]),\n",
              "    array([False, False, False,  True,  True])\n",
              ")"
            ]
          },
          "metadata": {},
          "execution_count": 27
        }
      ]
    },
    {
      "cell_type": "code",
      "source": [
        "-x"
      ],
      "metadata": {
        "colab": {
          "base_uri": "https://localhost:8080/"
        },
        "id": "ag6-Y0P34Lde",
        "outputId": "7160d1e2-a555-4984-f8ac-04d02d1c606d"
      },
      "execution_count": 28,
      "outputs": [
        {
          "output_type": "execute_result",
          "data": {
            "text/plain": [
              "MArray(\n",
              "    array([-0.        , -1.57079633, -3.14159265, -4.71238898, -6.28318531]),\n",
              "    array([False, False, False,  True,  True])\n",
              ")"
            ]
          },
          "metadata": {},
          "execution_count": 28
        }
      ]
    },
    {
      "cell_type": "code",
      "source": [
        "mxp.round(mxp.sin(x))"
      ],
      "metadata": {
        "colab": {
          "base_uri": "https://localhost:8080/"
        },
        "id": "SXqYlixJews2",
        "outputId": "4a3c78e5-db92-4288-df3e-5b1e900f6676"
      },
      "execution_count": 29,
      "outputs": [
        {
          "output_type": "execute_result",
          "data": {
            "text/plain": [
              "MArray(\n",
              "    array([ 0.,  1.,  0., -1., -0.]),\n",
              "    array([False, False, False,  True,  True])\n",
              ")"
            ]
          },
          "metadata": {},
          "execution_count": 29
        }
      ]
    },
    {
      "cell_type": "markdown",
      "source": [
        "For binary functions and operators, the mask of the result is the result of the logical *or* operation on the masks of the arguments."
      ],
      "metadata": {
        "id": "rvqPL2_pepIc"
      }
    },
    {
      "cell_type": "code",
      "source": [
        "x = mxp.asarray([1, 2, 3, 4], mask=[1, 0, 1, 0])\n",
        "y = mxp.asarray([5, 6, 7, 8], mask=[1, 1, 0, 0])\n",
        "x + y"
      ],
      "metadata": {
        "colab": {
          "base_uri": "https://localhost:8080/"
        },
        "id": "dsD06TGkduIs",
        "outputId": "7ea8a30f-8859-4976-8002-2b862e45b04a"
      },
      "execution_count": 30,
      "outputs": [
        {
          "output_type": "execute_result",
          "data": {
            "text/plain": [
              "MArray(array([ 6,  8, 10, 12]), array([ True,  True,  True, False]))"
            ]
          },
          "metadata": {},
          "execution_count": 30
        }
      ]
    },
    {
      "cell_type": "code",
      "source": [
        "mxp.pow(y, x)"
      ],
      "metadata": {
        "colab": {
          "base_uri": "https://localhost:8080/"
        },
        "id": "GRK2Qh1bdua0",
        "outputId": "15586c6f-0597-467d-99e1-8eca7e8fa4a2"
      },
      "execution_count": 31,
      "outputs": [
        {
          "output_type": "execute_result",
          "data": {
            "text/plain": [
              "MArray(array([   5,   36,  343, 4096]), array([ True,  True,  True, False]))"
            ]
          },
          "metadata": {},
          "execution_count": 31
        }
      ]
    },
    {
      "cell_type": "markdown",
      "source": [
        "Note that `np.ma` automatically masks non-finite elements produced during calculations."
      ],
      "metadata": {
        "id": "oGWz8BYShPEt"
      }
    },
    {
      "cell_type": "code",
      "source": [
        "import numpy\n",
        "x = numpy.ma.masked_array(0, mask=False)\n",
        "with numpy.errstate(divide='ignore', invalid='ignore'):\n",
        "    y = [1, 0] / x\n",
        "y"
      ],
      "metadata": {
        "colab": {
          "base_uri": "https://localhost:8080/"
        },
        "id": "LOe6RyxKhdCz",
        "outputId": "db0caa68-98bd-45e9-992d-fb7e4d06803f"
      },
      "execution_count": 32,
      "outputs": [
        {
          "output_type": "execute_result",
          "data": {
            "text/plain": [
              "masked_array(data=[--, --],\n",
              "             mask=[ True,  True],\n",
              "       fill_value=1e+20,\n",
              "            dtype=float64)"
            ]
          },
          "metadata": {},
          "execution_count": 32
        }
      ]
    },
    {
      "cell_type": "markdown",
      "source": [
        "`MArray` *does not* follow this convention."
      ],
      "metadata": {
        "id": "7foEBXuW4rqy"
      }
    },
    {
      "cell_type": "code",
      "source": [
        "x = mxp.asarray(0, mask=False)\n",
        "with numpy.errstate(divide='ignore', invalid='ignore'):\n",
        "    y = [1, 0] / x\n",
        "y"
      ],
      "metadata": {
        "colab": {
          "base_uri": "https://localhost:8080/"
        },
        "id": "3DmTXbmEhuwT",
        "outputId": "ce77f09b-6bfc-41d8-e2c4-bab73e36db01"
      },
      "execution_count": 33,
      "outputs": [
        {
          "output_type": "execute_result",
          "data": {
            "text/plain": [
              "MArray(array([inf, nan]), array([False, False]))"
            ]
          },
          "metadata": {},
          "execution_count": 33
        }
      ]
    },
    {
      "cell_type": "markdown",
      "source": [
        "This is because masked elements are often used to represent *missing* data, and the results of these operations are not missing. If this does not suit your needs, mask out data according to your requirements after performing the operation."
      ],
      "metadata": {
        "id": "kMCxGmnSh1CC"
      }
    },
    {
      "cell_type": "code",
      "source": [
        "x = mxp.asarray(0, mask=False)\n",
        "with numpy.errstate(divide='ignore', invalid='ignore'):\n",
        "    y = [1, 0] / x\n",
        "mxp.asarray(y.data, mask=xp.isnan(y.data))"
      ],
      "metadata": {
        "colab": {
          "base_uri": "https://localhost:8080/"
        },
        "id": "v-xhjS5xitw_",
        "outputId": "f8697c15-55a1-449e-df0c-94614da0b54f"
      },
      "execution_count": 34,
      "outputs": [
        {
          "output_type": "execute_result",
          "data": {
            "text/plain": [
              "MArray(array([inf, nan]), array([False,  True]))"
            ]
          },
          "metadata": {},
          "execution_count": 34
        }
      ]
    },
    {
      "cell_type": "markdown",
      "source": [
        "#### Linear Algebra Functions\n",
        "As usual, linear algebra functions and operators treat masked elements as though they don't exist."
      ],
      "metadata": {
        "id": "USf2fmg5fbWh"
      }
    },
    {
      "cell_type": "code",
      "source": [
        "x = mxp.asarray([1, 2, 3, 4], mask=[1, 0, 1, 0])\n",
        "y = mxp.asarray([5, 6, 7, 8], mask=[1, 1, 0, 0])\n",
        "x @ y  # the last elements of the arrays, 4 and 8, are the only non-masked elements"
      ],
      "metadata": {
        "colab": {
          "base_uri": "https://localhost:8080/"
        },
        "id": "rx2jLrgYfQ87",
        "outputId": "37eb7d3a-f8e9-468c-de07-7bcd97a3d640"
      },
      "execution_count": 35,
      "outputs": [
        {
          "output_type": "execute_result",
          "data": {
            "text/plain": [
              "MArray(array(32), array(False))"
            ]
          },
          "metadata": {},
          "execution_count": 35
        }
      ]
    },
    {
      "cell_type": "markdown",
      "source": [
        "The exception is `matrix_transpose`, which transposes the data and the mask."
      ],
      "metadata": {
        "id": "lOpOms8Jf3-D"
      }
    },
    {
      "cell_type": "code",
      "source": [
        "x = mxp.asarray([[1, 2], [3, 4]], mask=[[1, 1], [0, 0]])\n",
        "x"
      ],
      "metadata": {
        "colab": {
          "base_uri": "https://localhost:8080/"
        },
        "id": "Y_22kMucfqTD",
        "outputId": "859f4663-4c6b-42f7-8120-808b64d526af"
      },
      "execution_count": 36,
      "outputs": [
        {
          "output_type": "execute_result",
          "data": {
            "text/plain": [
              "MArray(\n",
              "    array([[1, 2],\n",
              "       [3, 4]]),\n",
              "    array([[ True,  True],\n",
              "       [False, False]])\n",
              ")"
            ]
          },
          "metadata": {},
          "execution_count": 36
        }
      ]
    },
    {
      "cell_type": "code",
      "source": [
        "mxp.matrix_transpose(x)"
      ],
      "metadata": {
        "colab": {
          "base_uri": "https://localhost:8080/"
        },
        "id": "CuV44oFLfzjr",
        "outputId": "ccb6f7ab-d81c-4fe7-9523-a63e4d35d4c7"
      },
      "execution_count": 37,
      "outputs": [
        {
          "output_type": "execute_result",
          "data": {
            "text/plain": [
              "MArray(\n",
              "    array([[1, 3],\n",
              "       [2, 4]]),\n",
              "    array([[ True, False],\n",
              "       [ True, False]])\n",
              ")"
            ]
          },
          "metadata": {},
          "execution_count": 37
        }
      ]
    },
    {
      "cell_type": "markdown",
      "source": [
        "#### Conclusion\n",
        "While this tutorial is not exhaustive, we hope it is sufficient to allow you to predict the results of operations with `MArray`s and use them to suit your needs. If you'd like to see this tutorial extended in a particular way, please [open an issue](https://github.com/mdhaber/marray/issues)!"
      ],
      "metadata": {
        "id": "i4pULKHVhCC_"
      }
    }
  ]
}